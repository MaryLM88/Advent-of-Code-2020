{
 "cells": [
  {
   "cell_type": "markdown",
   "metadata": {},
   "source": [
    "https://adventofcode.com/2020/day/8"
   ]
  },
  {
   "cell_type": "code",
   "execution_count": null,
   "metadata": {},
   "outputs": [],
   "source": [
    "# import the input (boot code for a console game with one instruction per line of text ) and put the data in a list"
   ]
  },
  {
   "cell_type": "code",
   "execution_count": 1,
   "metadata": {},
   "outputs": [],
   "source": [
    "import csv"
   ]
  },
  {
   "cell_type": "code",
   "execution_count": 2,
   "metadata": {},
   "outputs": [],
   "source": [
    "data = open('AOC8_input.csv',encoding=\"utf-8\")"
   ]
  },
  {
   "cell_type": "code",
   "execution_count": 3,
   "metadata": {},
   "outputs": [],
   "source": [
    "csv_data = csv.reader(data)"
   ]
  },
  {
   "cell_type": "code",
   "execution_count": 4,
   "metadata": {},
   "outputs": [],
   "source": [
    "data_lines = list(csv_data)"
   ]
  },
  {
   "cell_type": "code",
   "execution_count": 5,
   "metadata": {},
   "outputs": [],
   "source": [
    "instructions = []\n",
    "for elem in data_lines[1:]:\n",
    "    instructions.append(elem[0].split(' '))\n",
    "    "
   ]
  },
  {
   "cell_type": "code",
   "execution_count": null,
   "metadata": {},
   "outputs": [],
   "source": [
    "# Part One\n",
    "# Immediately before any instruction is executed a second time causing an infinite loop, what value is in the accumulator?"
   ]
  },
  {
   "cell_type": "code",
   "execution_count": 6,
   "metadata": {},
   "outputs": [],
   "source": [
    "def calc_accumulator_1(instructions):\n",
    "    i = 0\n",
    "    indexes = []\n",
    "    accumulator = 0\n",
    "    while(True):\n",
    "        indexes.append(i)\n",
    "        if instructions[i][0] == 'acc':\n",
    "            accumulator += int(instructions[i][1])\n",
    "            i += 1\n",
    "        elif instructions[i][0] == 'nop':\n",
    "            i += 1\n",
    "            continue\n",
    "        else:\n",
    "            i += int(instructions[i][1])\n",
    "        if i in indexes:\n",
    "            break\n",
    "            \n",
    "    return accumulator\n",
    "    \n"
   ]
  },
  {
   "cell_type": "code",
   "execution_count": 7,
   "metadata": {},
   "outputs": [
    {
     "data": {
      "text/plain": [
       "1930"
      ]
     },
     "execution_count": 7,
     "metadata": {},
     "output_type": "execute_result"
    }
   ],
   "source": [
    "calc_accumulator_1(instructions)"
   ]
  },
  {
   "cell_type": "code",
   "execution_count": null,
   "metadata": {},
   "outputs": [],
   "source": [
    "# Part Two\n",
    "# Fix the program so that it terminates normally by changing exactly one jmp (to nop) or nop (to jmp). \n",
    "# What is the value of the accumulator after the program terminates?"
   ]
  },
  {
   "cell_type": "code",
   "execution_count": 8,
   "metadata": {},
   "outputs": [],
   "source": [
    "def calc_accumulator_2(instructions):\n",
    "    trying = True\n",
    "    nop_i = []\n",
    "    jmp_i = []\n",
    "    \n",
    "    while(trying):\n",
    "        i = 0\n",
    "        indexes = []\n",
    "        accumulator = 0\n",
    "        only_one = True\n",
    "        while(True):\n",
    "            indexes.append(i)\n",
    "            if instructions[i][0] == 'acc':\n",
    "                accumulator += int(instructions[i][1])\n",
    "                i += 1\n",
    "            elif instructions[i][0] == 'nop':\n",
    "                if i not in nop_i and only_one:\n",
    "                    nop_i.append(i)\n",
    "                    instructions[i][0] == 'jmp'\n",
    "                    only_one = False\n",
    "                    i += int(instructions[i][1])\n",
    "                else:\n",
    "                    i += 1\n",
    "                    continue\n",
    "            else:\n",
    "                if i not in jmp_i and only_one:\n",
    "                    jmp_i.append(i)\n",
    "                    instructions[i][0] == 'nop'\n",
    "                    only_one = False\n",
    "                    i += 1\n",
    "                    continue\n",
    "                else:\n",
    "                    i += int(instructions[i][1])\n",
    "            if i in indexes:\n",
    "                break\n",
    "            if i >= len(instructions):\n",
    "                trying = False\n",
    "                break\n",
    "\n",
    "            \n",
    "    return accumulator"
   ]
  },
  {
   "cell_type": "code",
   "execution_count": 9,
   "metadata": {},
   "outputs": [
    {
     "data": {
      "text/plain": [
       "1688"
      ]
     },
     "execution_count": 9,
     "metadata": {},
     "output_type": "execute_result"
    }
   ],
   "source": [
    "calc_accumulator_2(instructions)"
   ]
  },
  {
   "cell_type": "code",
   "execution_count": null,
   "metadata": {},
   "outputs": [],
   "source": [
    "data.close()"
   ]
  },
  {
   "cell_type": "code",
   "execution_count": null,
   "metadata": {},
   "outputs": [],
   "source": []
  }
 ],
 "metadata": {
  "kernelspec": {
   "display_name": "Python 3",
   "language": "python",
   "name": "python3"
  },
  "language_info": {
   "codemirror_mode": {
    "name": "ipython",
    "version": 3
   },
   "file_extension": ".py",
   "mimetype": "text/x-python",
   "name": "python",
   "nbconvert_exporter": "python",
   "pygments_lexer": "ipython3",
   "version": "3.8.3"
  }
 },
 "nbformat": 4,
 "nbformat_minor": 4
}
