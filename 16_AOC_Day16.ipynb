{
 "cells": [
  {
   "cell_type": "markdown",
   "metadata": {},
   "source": [
    "https://adventofcode.com/2020/day/16"
   ]
  },
  {
   "cell_type": "code",
   "execution_count": null,
   "metadata": {},
   "outputs": [],
   "source": [
    "# import the input (the rules for ticket fields, the numbers on your ticket, and the numbers on other nearby tickets \n",
    "# for the same train service)"
   ]
  },
  {
   "cell_type": "code",
   "execution_count": 1,
   "metadata": {},
   "outputs": [],
   "source": [
    "import csv"
   ]
  },
  {
   "cell_type": "code",
   "execution_count": 2,
   "metadata": {},
   "outputs": [],
   "source": [
    "data = open('AOC16_input.csv',encoding=\"utf-8\")"
   ]
  },
  {
   "cell_type": "code",
   "execution_count": 3,
   "metadata": {},
   "outputs": [],
   "source": [
    "csv_data = csv.reader(data)"
   ]
  },
  {
   "cell_type": "code",
   "execution_count": 4,
   "metadata": {},
   "outputs": [],
   "source": [
    "data_lines = list(csv_data)"
   ]
  },
  {
   "cell_type": "code",
   "execution_count": 5,
   "metadata": {},
   "outputs": [],
   "source": [
    "# Part One\n",
    "# Consider the validity of the nearby tickets you scanned. What is your ticket scanning error rate?"
   ]
  },
  {
   "cell_type": "code",
   "execution_count": 6,
   "metadata": {},
   "outputs": [],
   "source": [
    "rules_list = []\n",
    "for elem in data_lines[1:]:\n",
    "    if elem == []:\n",
    "        break\n",
    "    rules_list.append(elem[0])"
   ]
  },
  {
   "cell_type": "code",
   "execution_count": 7,
   "metadata": {},
   "outputs": [],
   "source": [
    "import re\n",
    "ranges = []\n",
    "for r in rules_list:\n",
    "    ranges.append(re.findall(r'[\\d]+-[\\d]+',r)[0].split('-'))\n",
    "    ranges.append(re.findall(r'[\\d]+-[\\d]+',r)[1].split('-'))"
   ]
  },
  {
   "cell_type": "code",
   "execution_count": 8,
   "metadata": {},
   "outputs": [],
   "source": [
    "myticket = []\n",
    "for m in data_lines[data_lines.index(['your ticket:'])+1]:\n",
    "    myticket.append(int(m))"
   ]
  },
  {
   "cell_type": "code",
   "execution_count": 9,
   "metadata": {},
   "outputs": [],
   "source": [
    "nearticket = []\n",
    "j = data_lines.index(['nearby tickets:'])+1\n",
    "for n in data_lines[j:]:\n",
    "    near = []\n",
    "    for d in n:\n",
    "        near.append(int(d))\n",
    "    nearticket.append(near)"
   ]
  },
  {
   "cell_type": "code",
   "execution_count": 10,
   "metadata": {},
   "outputs": [],
   "source": [
    "invalid = []\n",
    "to_remove = []\n",
    "for near in nearticket:\n",
    "    for num in near:\n",
    "        in_range = 0\n",
    "        for i in range(0,len(ranges),2):\n",
    "            if num in range(int(ranges[i][0]),int(ranges[i][1])+1) or num in range(int(ranges[i+1][0]),int(ranges[i+1][1])+1):\n",
    "                in_range += 1\n",
    "                break\n",
    "        if in_range == 0:\n",
    "            invalid.append(num)\n",
    "            if near not in to_remove:\n",
    "                to_remove.append(near)\n",
    "\n",
    "    "
   ]
  },
  {
   "cell_type": "code",
   "execution_count": 11,
   "metadata": {},
   "outputs": [
    {
     "data": {
      "text/plain": [
       "25788"
      ]
     },
     "execution_count": 11,
     "metadata": {},
     "output_type": "execute_result"
    }
   ],
   "source": [
    "sum(invalid)"
   ]
  },
  {
   "cell_type": "code",
   "execution_count": 12,
   "metadata": {},
   "outputs": [],
   "source": [
    "# Part One\n",
    "# Once you work out which field is which, look for the six fields on your ticket that start with the word departure. \n",
    "# What do you get if you multiply those six values together?"
   ]
  },
  {
   "cell_type": "code",
   "execution_count": 13,
   "metadata": {},
   "outputs": [],
   "source": [
    "for rem in to_remove:\n",
    "    nearticket.remove(rem)  # remove invalid tickets"
   ]
  },
  {
   "cell_type": "code",
   "execution_count": 14,
   "metadata": {},
   "outputs": [],
   "source": [
    "fields = []\n",
    "for j in range(1,int(len(ranges)/2)+1):  \n",
    "    fields.append(data_lines[j][0].split(':')[0])"
   ]
  },
  {
   "cell_type": "code",
   "execution_count": 15,
   "metadata": {},
   "outputs": [],
   "source": [
    "class_order = []\n",
    "for j in range(0,len(ranges),2): # j: field\n",
    "    cl_or = []\n",
    "    for i in range(0,len(nearticket[0])):  # i: column in the ticket\n",
    "        fits = []\n",
    "        for ticket in nearticket:\n",
    "            if ticket[i] not in range(int(ranges[j][0]),int(ranges[j][1])+1) and ticket[i] not in range(int(ranges[j+1][0]),int(ranges[j+1][1])+1):\n",
    "                fits.append(False)\n",
    "                break\n",
    "            else:\n",
    "                continue\n",
    "        if all(fits):\n",
    "            cl_or.append([int(j/2),i])\n",
    "    \n",
    "    class_order.append(cl_or)    "
   ]
  },
  {
   "cell_type": "code",
   "execution_count": 16,
   "metadata": {},
   "outputs": [],
   "source": [
    " result_order = []\n",
    "while(len(result_order)<20):\n",
    "    for elem in class_order:\n",
    "        if len(elem) == 1:\n",
    "            to_remove = elem[0][1]\n",
    "            result_order.append(elem[0])\n",
    "            class_order.remove(elem)\n",
    "    for elem in class_order:\n",
    "        for e in elem:\n",
    "            if e[1] == to_remove:\n",
    "                elem.remove(e)\n",
    "        \n"
   ]
  },
  {
   "cell_type": "code",
   "execution_count": 17,
   "metadata": {},
   "outputs": [],
   "source": [
    "result_order.sort()"
   ]
  },
  {
   "cell_type": "code",
   "execution_count": 18,
   "metadata": {},
   "outputs": [],
   "source": [
    "result = 1\n",
    "for i in range(6):\n",
    "    result *= myticket[result_order[i][1]]"
   ]
  },
  {
   "cell_type": "code",
   "execution_count": 19,
   "metadata": {},
   "outputs": [
    {
     "data": {
      "text/plain": [
       "3902565915559"
      ]
     },
     "execution_count": 19,
     "metadata": {},
     "output_type": "execute_result"
    }
   ],
   "source": [
    "result"
   ]
  },
  {
   "cell_type": "code",
   "execution_count": null,
   "metadata": {},
   "outputs": [],
   "source": []
  },
  {
   "cell_type": "code",
   "execution_count": 20,
   "metadata": {},
   "outputs": [],
   "source": [
    "data.close()"
   ]
  },
  {
   "cell_type": "code",
   "execution_count": null,
   "metadata": {},
   "outputs": [],
   "source": []
  },
  {
   "cell_type": "code",
   "execution_count": null,
   "metadata": {},
   "outputs": [],
   "source": []
  }
 ],
 "metadata": {
  "kernelspec": {
   "display_name": "Python 3",
   "language": "python",
   "name": "python3"
  },
  "language_info": {
   "codemirror_mode": {
    "name": "ipython",
    "version": 3
   },
   "file_extension": ".py",
   "mimetype": "text/x-python",
   "name": "python",
   "nbconvert_exporter": "python",
   "pygments_lexer": "ipython3",
   "version": "3.8.3"
  }
 },
 "nbformat": 4,
 "nbformat_minor": 4
}
