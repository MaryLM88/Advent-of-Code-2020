{
 "cells": [
  {
   "cell_type": "markdown",
   "metadata": {},
   "source": [
    "https://adventofcode.com/2020/day/14"
   ]
  },
  {
   "cell_type": "code",
   "execution_count": null,
   "metadata": {},
   "outputs": [],
   "source": [
    "# import the input (initialization program)"
   ]
  },
  {
   "cell_type": "code",
   "execution_count": 1,
   "metadata": {},
   "outputs": [],
   "source": [
    "import csv"
   ]
  },
  {
   "cell_type": "code",
   "execution_count": 2,
   "metadata": {},
   "outputs": [],
   "source": [
    "data = open('AOC14_input.csv',encoding=\"utf-8\")"
   ]
  },
  {
   "cell_type": "code",
   "execution_count": 3,
   "metadata": {},
   "outputs": [],
   "source": [
    "csv_data = csv.reader(data)"
   ]
  },
  {
   "cell_type": "code",
   "execution_count": 4,
   "metadata": {},
   "outputs": [],
   "source": [
    "data_lines = list(csv_data)"
   ]
  },
  {
   "cell_type": "code",
   "execution_count": 5,
   "metadata": {},
   "outputs": [],
   "source": [
    "mylist = []\n",
    "for elem in data_lines[1:]:\n",
    "    mylist.append(elem[0])"
   ]
  },
  {
   "cell_type": "code",
   "execution_count": 6,
   "metadata": {},
   "outputs": [],
   "source": [
    "# Part One\n",
    "# Execute the initialization program. What is the sum of all values left in memory after it completes?"
   ]
  },
  {
   "cell_type": "code",
   "execution_count": 7,
   "metadata": {},
   "outputs": [],
   "source": [
    "import re\n",
    "mem = {}\n",
    "for line in mylist:\n",
    "    if 'mask' in line:\n",
    "        mask = line[7:]\n",
    "    elif 'mem' in line:\n",
    "        address = re.findall('[\\d]+',line)[0]\n",
    "        number = int(re.findall('[\\d]+',line)[1])\n",
    "        binary = f'{number:036b}'\n",
    "        new_binary = ''\n",
    "        for i in range(len(binary)):\n",
    "            if mask[i] != 'X':\n",
    "                new_binary += mask[i]\n",
    "            else:\n",
    "                new_binary += binary[i]\n",
    "        number = int(new_binary,2)\n",
    "        mem[address] = number\n",
    "        \n",
    "result = sum(mem.values())\n",
    "            \n",
    "        "
   ]
  },
  {
   "cell_type": "code",
   "execution_count": 8,
   "metadata": {},
   "outputs": [
    {
     "data": {
      "text/plain": [
       "15018100062885"
      ]
     },
     "execution_count": 8,
     "metadata": {},
     "output_type": "execute_result"
    }
   ],
   "source": [
    "result"
   ]
  },
  {
   "cell_type": "code",
   "execution_count": 9,
   "metadata": {},
   "outputs": [],
   "source": [
    "# Part Two\n",
    "# Execute the initialization program using an emulator for a version 2 decoder chip. \n",
    "# What is the sum of all values left in memory after it completes?"
   ]
  },
  {
   "cell_type": "code",
   "execution_count": 10,
   "metadata": {},
   "outputs": [],
   "source": [
    "import re\n",
    "mem = {}\n",
    "for line in mylist:\n",
    "    if 'mask' in line:\n",
    "        mask = line[7:]\n",
    "        num_x = mask.count('X')\n",
    "    elif 'mem' in line:\n",
    "        address = re.findall('[\\d]+',line)[0]\n",
    "        number = int(re.findall('[\\d]+',line)[1])\n",
    "        bin_address = f'{int(address):036b}'\n",
    "        list_bin_address = []\n",
    "        for b in bin_address:\n",
    "            list_bin_address.append(b)\n",
    "        new_list_bin_address = list_bin_address\n",
    "        x_ind = [] # 3\n",
    "        for i in range(len(bin_address)):\n",
    "            if mask[i] == '1':\n",
    "                new_list_bin_address[i] = '1'  # fin qua ok zeri e uni\n",
    "            if mask[i] == 'X':\n",
    "                x_ind.append(i)\n",
    "        fill = []\n",
    "        for i in range(2**num_x):   # 8 liste da 3 in fill\n",
    "            fill.append(list(bin(i)[2:].zfill(num_x)))\n",
    "        for f in fill:  # f ne ha 3(num_x)\n",
    "            for j in range(len(x_ind)): # 0 1 2\n",
    "                new_list_bin_address[x_ind[j]] = f[j]\n",
    "            new_bin_address = ''\n",
    "            for l in new_list_bin_address:\n",
    "                new_bin_address += l\n",
    "            new_address = int(new_bin_address,2)\n",
    "            mem[str(new_address)] = number\n",
    "        \n",
    " \n",
    "        \n",
    "result = sum(mem.values())"
   ]
  },
  {
   "cell_type": "code",
   "execution_count": 11,
   "metadata": {},
   "outputs": [
    {
     "data": {
      "text/plain": [
       "5724245857696"
      ]
     },
     "execution_count": 11,
     "metadata": {},
     "output_type": "execute_result"
    }
   ],
   "source": [
    "result"
   ]
  },
  {
   "cell_type": "code",
   "execution_count": null,
   "metadata": {},
   "outputs": [],
   "source": []
  },
  {
   "cell_type": "code",
   "execution_count": 12,
   "metadata": {},
   "outputs": [],
   "source": [
    "data.close()"
   ]
  },
  {
   "cell_type": "code",
   "execution_count": null,
   "metadata": {},
   "outputs": [],
   "source": []
  },
  {
   "cell_type": "code",
   "execution_count": null,
   "metadata": {},
   "outputs": [],
   "source": []
  },
  {
   "cell_type": "code",
   "execution_count": null,
   "metadata": {},
   "outputs": [],
   "source": []
  },
  {
   "cell_type": "code",
   "execution_count": null,
   "metadata": {},
   "outputs": [],
   "source": []
  },
  {
   "cell_type": "code",
   "execution_count": null,
   "metadata": {},
   "outputs": [],
   "source": []
  },
  {
   "cell_type": "code",
   "execution_count": null,
   "metadata": {},
   "outputs": [],
   "source": []
  },
  {
   "cell_type": "code",
   "execution_count": null,
   "metadata": {},
   "outputs": [],
   "source": []
  },
  {
   "cell_type": "code",
   "execution_count": null,
   "metadata": {},
   "outputs": [],
   "source": []
  }
 ],
 "metadata": {
  "kernelspec": {
   "display_name": "Python 3",
   "language": "python",
   "name": "python3"
  },
  "language_info": {
   "codemirror_mode": {
    "name": "ipython",
    "version": 3
   },
   "file_extension": ".py",
   "mimetype": "text/x-python",
   "name": "python",
   "nbconvert_exporter": "python",
   "pygments_lexer": "ipython3",
   "version": "3.8.3"
  }
 },
 "nbformat": 4,
 "nbformat_minor": 4
}
