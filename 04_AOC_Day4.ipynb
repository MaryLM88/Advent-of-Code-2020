{
 "cells": [
  {
   "cell_type": "markdown",
   "metadata": {},
   "source": [
    "https://adventofcode.com/2020/day/4"
   ]
  },
  {
   "cell_type": "code",
   "execution_count": 1,
   "metadata": {},
   "outputs": [],
   "source": [
    "# import the input (passport data) and put the data in a list"
   ]
  },
  {
   "cell_type": "code",
   "execution_count": 2,
   "metadata": {},
   "outputs": [],
   "source": [
    "f = open('AOC4_input.txt', 'r')"
   ]
  },
  {
   "cell_type": "code",
   "execution_count": 3,
   "metadata": {},
   "outputs": [],
   "source": [
    "data = f.read()"
   ]
  },
  {
   "cell_type": "code",
   "execution_count": 4,
   "metadata": {},
   "outputs": [],
   "source": [
    "mylist = data.split('\\n\\n')"
   ]
  },
  {
   "cell_type": "code",
   "execution_count": 5,
   "metadata": {},
   "outputs": [],
   "source": [
    "# Part One\n",
    "# Count how many passports are valid. A passport is valid if it contains the fields byr, iyr, eyr, hgt, hcl, ecl, pid."
   ]
  },
  {
   "cell_type": "code",
   "execution_count": 6,
   "metadata": {},
   "outputs": [],
   "source": [
    "def count_valid_passport_1(mylist):   \n",
    "    counter = 0\n",
    "    for passport in mylist:\n",
    "        if ('byr' in passport and 'iyr' in passport and 'eyr' in passport and 'hgt' in passport\n",
    "           and 'hcl' in passport and 'ecl' in passport and 'pid' in passport):\n",
    "            counter += 1\n",
    "    return counter"
   ]
  },
  {
   "cell_type": "code",
   "execution_count": 7,
   "metadata": {},
   "outputs": [
    {
     "data": {
      "text/plain": [
       "256"
      ]
     },
     "execution_count": 7,
     "metadata": {},
     "output_type": "execute_result"
    }
   ],
   "source": [
    "count_valid_passport_1(mylist)"
   ]
  },
  {
   "cell_type": "code",
   "execution_count": 8,
   "metadata": {},
   "outputs": [],
   "source": [
    "# Part Two\n",
    "# Each field has strict rules about what values are valid for automatic validation:\n",
    "    # byr (Birth Year) - four digits; at least 1920 and at most 2002.\n",
    "    # iyr (Issue Year) - four digits; at least 2010 and at most 2020.\n",
    "    # eyr (Expiration Year) - four digits; at least 2020 and at most 2030.\n",
    "    # hgt (Height) - a number followed by either cm or in:\n",
    "    # If cm, the number must be at least 150 and at most 193.\n",
    "    # If in, the number must be at least 59 and at most 76.\n",
    "    # hcl (Hair Color) - a # followed by exactly six characters 0-9 or a-f.\n",
    "    # ecl (Eye Color) - exactly one of: amb blu brn gry grn hzl oth.\n",
    "    # pid (Passport ID) - a nine-digit number, including leading zeroes.\n",
    "    # cid (Country ID) - ignored, missing or not.\n",
    "# How many passports are valid according to these rules"
   ]
  },
  {
   "cell_type": "code",
   "execution_count": 127,
   "metadata": {},
   "outputs": [],
   "source": [
    "import re\n",
    "def count_valid_passport_2(mylist):   \n",
    "    ecl_valid = ['amb','blu','brn','gry','grn','hzl','oth']\n",
    "    counter = 0\n",
    "    for passport in mylist:\n",
    "        sub_counter = 0 # must be 7 to increment counter\n",
    "        if ('byr' in passport and 'iyr' in passport and 'eyr' in passport and 'hgt' in passport\n",
    "           and 'hcl' in passport and 'ecl' in passport and 'pid' in passport):\n",
    "            passport = passport.split()\n",
    "            mydict = {}\n",
    "            for item in passport:\n",
    "                mydict[item[:3]] = item[4:]\n",
    "            if re.search(r'\\d{4}',mydict['byr']):\n",
    "                if int(mydict['byr']) in range (1920,2003):\n",
    "                    sub_counter +=1\n",
    "            if re.search(r'\\d{4}',mydict['iyr']):\n",
    "                if int(mydict['iyr']) in range (2010,2021):\n",
    "                    sub_counter +=1\n",
    "            if re.search(r'\\d{4}',mydict['eyr']):\n",
    "                if int(mydict['eyr']) in range (2020,2031):\n",
    "                    sub_counter +=1\n",
    "            if mydict['ecl'] in ecl_valid:\n",
    "                sub_counter += 1\n",
    "            if re.search(r'\\d{9}',mydict['pid']) and len(mydict['pid'])==9:\n",
    "                sub_counter += 1\n",
    "            if mydict['hcl'][0] == '#' and len(mydict['hcl'])==7:\n",
    "                hcl_bool = True\n",
    "                for elem in mydict['hcl'][1:]:\n",
    "                    if elem not in ['0','1','2','3','4','5','6','7','8','9'] and elem not in ['a','b','c','d','e','f']:\n",
    "                        hcl_bool = False\n",
    "                        break\n",
    "                if hcl_bool:\n",
    "                    sub_counter +=1\n",
    "            if 'cm' in mydict['hgt']:\n",
    "                hgt = mydict['hgt'].replace('cm','')\n",
    "                if int(hgt) in range(150,194):\n",
    "                    sub_counter +=1\n",
    "            elif 'in' in mydict['hgt']:\n",
    "                hgt = mydict['hgt'].replace('in','')\n",
    "                if int(hgt) in range(59,77):\n",
    "                    sub_counter +=1\n",
    "        \n",
    "        if sub_counter == 7:\n",
    "            counter += 1\n",
    "    return counter\n",
    "                         "
   ]
  },
  {
   "cell_type": "code",
   "execution_count": 128,
   "metadata": {},
   "outputs": [
    {
     "data": {
      "text/plain": [
       "198"
      ]
     },
     "execution_count": 128,
     "metadata": {},
     "output_type": "execute_result"
    }
   ],
   "source": [
    "count_valid_passport_2(mylist)"
   ]
  },
  {
   "cell_type": "code",
   "execution_count": 129,
   "metadata": {},
   "outputs": [],
   "source": [
    "f.close()"
   ]
  },
  {
   "cell_type": "code",
   "execution_count": null,
   "metadata": {},
   "outputs": [],
   "source": []
  },
  {
   "cell_type": "code",
   "execution_count": null,
   "metadata": {},
   "outputs": [],
   "source": []
  },
  {
   "cell_type": "code",
   "execution_count": null,
   "metadata": {},
   "outputs": [],
   "source": []
  },
  {
   "cell_type": "code",
   "execution_count": null,
   "metadata": {},
   "outputs": [],
   "source": []
  },
  {
   "cell_type": "code",
   "execution_count": null,
   "metadata": {},
   "outputs": [],
   "source": []
  }
 ],
 "metadata": {
  "kernelspec": {
   "display_name": "Python 3",
   "language": "python",
   "name": "python3"
  },
  "language_info": {
   "codemirror_mode": {
    "name": "ipython",
    "version": 3
   },
   "file_extension": ".py",
   "mimetype": "text/x-python",
   "name": "python",
   "nbconvert_exporter": "python",
   "pygments_lexer": "ipython3",
   "version": "3.8.3"
  }
 },
 "nbformat": 4,
 "nbformat_minor": 4
}
