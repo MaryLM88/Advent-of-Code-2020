{
 "cells": [
  {
   "cell_type": "markdown",
   "metadata": {},
   "source": [
    "https://adventofcode.com/2020/day/17"
   ]
  },
  {
   "cell_type": "code",
   "execution_count": null,
   "metadata": {},
   "outputs": [],
   "source": [
    "# import the input (the initial state of the pocket dimension)"
   ]
  },
  {
   "cell_type": "code",
   "execution_count": 10,
   "metadata": {},
   "outputs": [],
   "source": [
    "import csv"
   ]
  },
  {
   "cell_type": "code",
   "execution_count": 11,
   "metadata": {},
   "outputs": [],
   "source": [
    "data = open('AOC17_input.csv',encoding=\"utf-8\")"
   ]
  },
  {
   "cell_type": "code",
   "execution_count": 12,
   "metadata": {},
   "outputs": [],
   "source": [
    "csv_data = csv.reader(data)"
   ]
  },
  {
   "cell_type": "code",
   "execution_count": 13,
   "metadata": {},
   "outputs": [],
   "source": [
    "data_lines = list(csv_data)"
   ]
  },
  {
   "cell_type": "code",
   "execution_count": 14,
   "metadata": {},
   "outputs": [],
   "source": [
    "# Part One\n",
    "# Starting with your given initial configuration, simulate six cycles. \n",
    "# How many cubes are left in the active state after the sixth cycle?"
   ]
  },
  {
   "cell_type": "code",
   "execution_count": 15,
   "metadata": {},
   "outputs": [],
   "source": [
    "cycles = 6"
   ]
  },
  {
   "cell_type": "code",
   "execution_count": 7,
   "metadata": {},
   "outputs": [],
   "source": [
    "active = []\n",
    "for x,line in enumerate(data_lines[1:]):\n",
    "    for y,char in enumerate(line[0]):\n",
    "        if char == '#':\n",
    "            active.append([x,y,0])"
   ]
  },
  {
   "cell_type": "code",
   "execution_count": 8,
   "metadata": {},
   "outputs": [],
   "source": [
    "def count_active_neighbors(active,cube):\n",
    "    diff = [-1,0,1]\n",
    "    counter = 0\n",
    "    for dx in diff:\n",
    "        for dy in diff:\n",
    "            for dz in diff:\n",
    "                if [cube[0]+dx,cube[1]+dy,cube[2]+dz] in active and (dx,dy,dz) != (0,0,0):\n",
    "                    counter += 1\n",
    "    return counter\n",
    "\n",
    "def list_of_neighbors(cube):\n",
    "    neighbors = []\n",
    "    diff = [-1,0,1]\n",
    "    for dx in diff:\n",
    "        for dy in diff:\n",
    "            for dz in diff:\n",
    "                if (dx,dy,dz) != (0,0,0):\n",
    "                    neighbors.append([cube[0]+dx,cube[1]+dy,cube[2]+dz])\n",
    "    return neighbors"
   ]
  },
  {
   "cell_type": "code",
   "execution_count": 9,
   "metadata": {},
   "outputs": [
    {
     "name": "stdout",
     "output_type": "stream",
     "text": [
      "269\n"
     ]
    }
   ],
   "source": [
    "for c in range(cycles):\n",
    "    next_active = []\n",
    "    for cube in active:\n",
    "        n = count_active_neighbors(active,cube)\n",
    "        if n == 2 or n == 3:\n",
    "            next_active.append(cube)\n",
    "\n",
    "        neighbors = list_of_neighbors(cube)\n",
    "        for neighbor in neighbors:\n",
    "            if neighbor not in active:\n",
    "                n = count_active_neighbors(active,neighbor)\n",
    "                if n == 3:\n",
    "                    if neighbor not in next_active:\n",
    "                        next_active.append(neighbor)\n",
    "         \n",
    "    active = next_active\n",
    "\n",
    "print(len(active))"
   ]
  },
  {
   "cell_type": "code",
   "execution_count": null,
   "metadata": {},
   "outputs": [],
   "source": [
    "# Part Two\n",
    "# Starting with your given initial configuration, simulate six cycles in a 4-dimensional space. \n",
    "# How many cubes are left in the active state after the sixth cycle?"
   ]
  },
  {
   "cell_type": "code",
   "execution_count": 16,
   "metadata": {},
   "outputs": [],
   "source": [
    "active = []\n",
    "for x,line in enumerate(data_lines[1:]):\n",
    "    for y,char in enumerate(line[0]):\n",
    "        if char == '#':\n",
    "            active.append([x,y,0,0])"
   ]
  },
  {
   "cell_type": "code",
   "execution_count": 17,
   "metadata": {},
   "outputs": [],
   "source": [
    "def count_active_neighbors(active,cube):\n",
    "    diff = [-1,0,1]\n",
    "    counter = 0\n",
    "    for dx in diff:\n",
    "        for dy in diff:\n",
    "            for dz in diff:\n",
    "                for dw in diff:\n",
    "                    if [cube[0]+dx,cube[1]+dy,cube[2]+dz,cube[3]+dw] in active and (dx,dy,dz,dw) != (0,0,0,0):\n",
    "                        counter += 1\n",
    "    return counter\n",
    "\n",
    "def list_of_neighbors(cube):\n",
    "    neighbors = []\n",
    "    diff = [-1,0,1]\n",
    "    for dx in diff:\n",
    "        for dy in diff:\n",
    "            for dz in diff:\n",
    "                for dw in diff:\n",
    "                    if (dx,dy,dz,dw) != (0,0,0,0):\n",
    "                        neighbors.append([cube[0]+dx,cube[1]+dy,cube[2]+dz,cube[3]+dw])\n",
    "    return neighbors"
   ]
  },
  {
   "cell_type": "code",
   "execution_count": 18,
   "metadata": {},
   "outputs": [
    {
     "name": "stdout",
     "output_type": "stream",
     "text": [
      "1380\n"
     ]
    }
   ],
   "source": [
    "for c in range(cycles):\n",
    "    next_active = []\n",
    "    for cube in active:\n",
    "        n = count_active_neighbors(active,cube)\n",
    "        if n == 2 or n == 3:\n",
    "            next_active.append(cube)\n",
    "    \n",
    "        neighbors = list_of_neighbors(cube)\n",
    "        for neighbor in neighbors:\n",
    "            if neighbor not in active:\n",
    "                n = count_active_neighbors(active,neighbor)\n",
    "                if n == 3:\n",
    "                    if neighbor not in next_active:\n",
    "                        next_active.append(neighbor)\n",
    "         \n",
    "    active = next_active\n",
    "\n",
    "print(len(active))"
   ]
  },
  {
   "cell_type": "code",
   "execution_count": null,
   "metadata": {},
   "outputs": [],
   "source": []
  },
  {
   "cell_type": "code",
   "execution_count": null,
   "metadata": {},
   "outputs": [],
   "source": [
    "data.close()"
   ]
  },
  {
   "cell_type": "code",
   "execution_count": null,
   "metadata": {},
   "outputs": [],
   "source": []
  },
  {
   "cell_type": "code",
   "execution_count": null,
   "metadata": {},
   "outputs": [],
   "source": []
  }
 ],
 "metadata": {
  "kernelspec": {
   "display_name": "Python 3",
   "language": "python",
   "name": "python3"
  },
  "language_info": {
   "codemirror_mode": {
    "name": "ipython",
    "version": 3
   },
   "file_extension": ".py",
   "mimetype": "text/x-python",
   "name": "python",
   "nbconvert_exporter": "python",
   "pygments_lexer": "ipython3",
   "version": "3.8.3"
  }
 },
 "nbformat": 4,
 "nbformat_minor": 4
}
