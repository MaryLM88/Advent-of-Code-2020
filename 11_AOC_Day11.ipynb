{
 "cells": [
  {
   "cell_type": "markdown",
   "metadata": {},
   "source": [
    "https://adventofcode.com/2020/day/11"
   ]
  },
  {
   "cell_type": "code",
   "execution_count": null,
   "metadata": {},
   "outputs": [],
   "source": [
    "# import the input (map of the seat layout)"
   ]
  },
  {
   "cell_type": "code",
   "execution_count": 5,
   "metadata": {},
   "outputs": [],
   "source": [
    "import csv"
   ]
  },
  {
   "cell_type": "code",
   "execution_count": 6,
   "metadata": {},
   "outputs": [],
   "source": [
    "data = open('AOC11_input.csv',encoding=\"utf-8\")"
   ]
  },
  {
   "cell_type": "code",
   "execution_count": 7,
   "metadata": {},
   "outputs": [],
   "source": [
    "csv_data = csv.reader(data)"
   ]
  },
  {
   "cell_type": "code",
   "execution_count": 8,
   "metadata": {},
   "outputs": [],
   "source": [
    "data_lines = list(csv_data)"
   ]
  },
  {
   "cell_type": "code",
   "execution_count": 9,
   "metadata": {},
   "outputs": [],
   "source": [
    "mylist = []\n",
    "for elem in data_lines[1:]:\n",
    "    mylist.append(elem[0])"
   ]
  },
  {
   "cell_type": "code",
   "execution_count": null,
   "metadata": {},
   "outputs": [],
   "source": [
    "# Part One\n",
    "# Simulate your seating area by applying the seating rules repeatedly until no seats change state. \n",
    "# How many seats end up occupied?"
   ]
  },
  {
   "cell_type": "code",
   "execution_count": null,
   "metadata": {},
   "outputs": [],
   "source": [
    "map_seats = {}\n",
    "for h in range(len(mylist)):\n",
    "    for b in range(len(mylist[0])):\n",
    "        map_seats[(h,b)] = mylist[h][b]\n",
    "        "
   ]
  },
  {
   "cell_type": "code",
   "execution_count": null,
   "metadata": {},
   "outputs": [],
   "source": [
    "while (True):\n",
    "    new_map_seats = {}\n",
    "    for h in range(len(mylist)):\n",
    "        for b in range(len(mylist[0])):\n",
    "            adjacent_seats = []\n",
    "            x = h-1\n",
    "            y = h+1\n",
    "            w = b-1\n",
    "            z = b+1\n",
    "            if x>=0:\n",
    "                adjacent_seats.append(map_seats[(x,b)])\n",
    "                if w>=0:\n",
    "                    adjacent_seats.append(map_seats[(x,w)])\n",
    "                if z<len(mylist[0]):\n",
    "                    adjacent_seats.append(map_seats[(x,z)])\n",
    "            if y<len(mylist):\n",
    "                adjacent_seats.append(map_seats[(y,b)])\n",
    "                if w>=0:\n",
    "                    adjacent_seats.append(map_seats[(y,w)])\n",
    "                if z<len(mylist[0]):\n",
    "                    adjacent_seats.append(map_seats[(y,z)])\n",
    "            if z<len(mylist[0]):\n",
    "                adjacent_seats.append(map_seats[(h,z)])\n",
    "            if w>=0:\n",
    "                adjacent_seats.append(map_seats[(h,w)])\n",
    "            \n",
    "            if map_seats[(h,b)] == 'L':\n",
    "                if '#' not in adjacent_seats:\n",
    "                    new_map_seats[(h,b)] = '#'\n",
    "                else:\n",
    "                    new_map_seats[(h,b)] = 'L'\n",
    "                          \n",
    "            if map_seats[(h,b)] == '#':\n",
    "                if adjacent_seats.count('#') >= 4:\n",
    "                    new_map_seats[(h,b)] = 'L'\n",
    "                else:\n",
    "                    new_map_seats[(h,b)] = '#'\n",
    "                    \n",
    "            if map_seats[(h,b)] == '.':\n",
    "                new_map_seats[(h,b)] = '.'\n",
    "\n",
    "    if new_map_seats == map_seats:\n",
    "        break\n",
    "    else:\n",
    "        map_seats = new_map_seats\n",
    "\n",
    "list(map_seats.values()).count('#')"
   ]
  },
  {
   "cell_type": "code",
   "execution_count": null,
   "metadata": {},
   "outputs": [],
   "source": [
    "# Part Two\n",
    "# # Simulate your seating area by applying the NEW seating rules repeatedly until no seats change state. \n",
    "# How many seats end up occupied?"
   ]
  },
  {
   "cell_type": "code",
   "execution_count": 10,
   "metadata": {},
   "outputs": [],
   "source": [
    "map_seats = {}\n",
    "for h in range(len(mylist)):\n",
    "    for b in range(len(mylist[0])):\n",
    "        map_seats[(h,b)] = mylist[h][b]"
   ]
  },
  {
   "cell_type": "code",
   "execution_count": 11,
   "metadata": {},
   "outputs": [
    {
     "data": {
      "text/plain": [
       "2074"
      ]
     },
     "execution_count": 11,
     "metadata": {},
     "output_type": "execute_result"
    }
   ],
   "source": [
    "while (True):\n",
    "    new_map_seats = {}\n",
    "    for h in range(len(mylist)):\n",
    "        for b in range(len(mylist[0])):\n",
    "            adjacent_seats = []\n",
    "            x = h-1\n",
    "            y = h+1\n",
    "            w = b-1\n",
    "            z = b+1\n",
    "            \n",
    "            while x>=0:\n",
    "                if map_seats[(x,b)] != '.':\n",
    "                    adjacent_seats.append(map_seats[(x,b)])\n",
    "                    break\n",
    "                else:\n",
    "                    x -= 1\n",
    "            x = h-1\n",
    "            \n",
    "            while y<len(mylist):\n",
    "                if map_seats[(y,b)] != '.':\n",
    "                    adjacent_seats.append(map_seats[(y,b)])\n",
    "                    break\n",
    "                else:\n",
    "                    y += 1\n",
    "            y = h+1\n",
    "                    \n",
    "            while w>=0:\n",
    "                if map_seats[(h,w)] != '.':\n",
    "                    adjacent_seats.append(map_seats[(h,w)])\n",
    "                    break\n",
    "                else:\n",
    "                    w -= 1\n",
    "            w = b-1\n",
    "                    \n",
    "            while z<len(mylist[0]):\n",
    "                if map_seats[(h,z)] != '.':\n",
    "                    adjacent_seats.append(map_seats[(h,z)])\n",
    "                    break\n",
    "                else:\n",
    "                    z += 1\n",
    "            z = b+1\n",
    "                    \n",
    "            while x>=0 and z<len(mylist[0]):\n",
    "                if map_seats[(x,z)] != '.':\n",
    "                    adjacent_seats.append(map_seats[(x,z)])\n",
    "                    break\n",
    "                else:\n",
    "                    x -= 1\n",
    "                    z += 1\n",
    "            x = h-1\n",
    "            z = b+1\n",
    "                    \n",
    "            while x>=0 and w>=0:\n",
    "                if map_seats[(x,w)] != '.':\n",
    "                    adjacent_seats.append(map_seats[(x,w)])\n",
    "                    break\n",
    "                else:\n",
    "                    x -= 1\n",
    "                    w -= 1\n",
    "            x = h-1\n",
    "            w = b-1\n",
    "                    \n",
    "            while y<len(mylist) and w>=0:\n",
    "                if map_seats[(y,w)] != '.':\n",
    "                    adjacent_seats.append(map_seats[(y,w)])\n",
    "                    break\n",
    "                else:\n",
    "                    y += 1\n",
    "                    w -= 1\n",
    "            y = h+1\n",
    "            w = b-1\n",
    "                    \n",
    "            while y<len(mylist) and z<len(mylist[0]):\n",
    "                if map_seats[(y,z)] != '.':\n",
    "                    adjacent_seats.append(map_seats[(y,z)])\n",
    "                    break\n",
    "                else:\n",
    "                    y += 1\n",
    "                    z += 1\n",
    "                    \n",
    "            y = h+1\n",
    "            z = b+1\n",
    "            \n",
    "\n",
    "            if map_seats[(h,b)] == 'L':\n",
    "                if '#' not in adjacent_seats:\n",
    "                    new_map_seats[(h,b)] = '#'\n",
    "                else:\n",
    "                    new_map_seats[(h,b)] = 'L'\n",
    "                          \n",
    "            if map_seats[(h,b)] == '#':\n",
    "                if adjacent_seats.count('#') >= 5:\n",
    "                    new_map_seats[(h,b)] = 'L'\n",
    "                else:\n",
    "                    new_map_seats[(h,b)] = '#'\n",
    "                    \n",
    "            if map_seats[(h,b)] == '.':\n",
    "                new_map_seats[(h,b)] = '.'\n",
    "\n",
    "    if new_map_seats == map_seats:\n",
    "        break\n",
    "    else:\n",
    "        map_seats = new_map_seats\n",
    "\n",
    "list(map_seats.values()).count('#')"
   ]
  },
  {
   "cell_type": "code",
   "execution_count": null,
   "metadata": {},
   "outputs": [],
   "source": []
  },
  {
   "cell_type": "code",
   "execution_count": 12,
   "metadata": {},
   "outputs": [],
   "source": [
    "data.close()"
   ]
  },
  {
   "cell_type": "code",
   "execution_count": null,
   "metadata": {},
   "outputs": [],
   "source": []
  },
  {
   "cell_type": "code",
   "execution_count": null,
   "metadata": {},
   "outputs": [],
   "source": []
  }
 ],
 "metadata": {
  "kernelspec": {
   "display_name": "Python 3",
   "language": "python",
   "name": "python3"
  },
  "language_info": {
   "codemirror_mode": {
    "name": "ipython",
    "version": 3
   },
   "file_extension": ".py",
   "mimetype": "text/x-python",
   "name": "python",
   "nbconvert_exporter": "python",
   "pygments_lexer": "ipython3",
   "version": "3.8.3"
  }
 },
 "nbformat": 4,
 "nbformat_minor": 4
}
