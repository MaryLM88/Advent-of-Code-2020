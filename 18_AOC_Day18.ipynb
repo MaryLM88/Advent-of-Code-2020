{
 "cells": [
  {
   "cell_type": "markdown",
   "metadata": {},
   "source": [
    "https://adventofcode.com/2020/day/17"
   ]
  },
  {
   "cell_type": "code",
   "execution_count": null,
   "metadata": {},
   "outputs": [],
   "source": [
    "# import the input (series of mathematical expressions)"
   ]
  },
  {
   "cell_type": "code",
   "execution_count": 30,
   "metadata": {},
   "outputs": [],
   "source": [
    "import re\n",
    "import csv"
   ]
  },
  {
   "cell_type": "code",
   "execution_count": 39,
   "metadata": {},
   "outputs": [],
   "source": [
    "data = open('AOC18_input.csv',encoding=\"utf-8\")"
   ]
  },
  {
   "cell_type": "code",
   "execution_count": 40,
   "metadata": {},
   "outputs": [],
   "source": [
    "csv_data = csv.reader(data)"
   ]
  },
  {
   "cell_type": "code",
   "execution_count": 41,
   "metadata": {},
   "outputs": [],
   "source": [
    "data_lines = list(csv_data)"
   ]
  },
  {
   "cell_type": "code",
   "execution_count": 42,
   "metadata": {},
   "outputs": [],
   "source": [
    "lines = []\n",
    "for d in data_lines[1:]:\n",
    "    lines.append(d[0])\n",
    "    "
   ]
  },
  {
   "cell_type": "code",
   "execution_count": null,
   "metadata": {},
   "outputs": [],
   "source": [
    "# Part One\n",
    "# Evaluate the expression on each line of the homework; what is the sum of the resulting values?"
   ]
  },
  {
   "cell_type": "code",
   "execution_count": 35,
   "metadata": {},
   "outputs": [],
   "source": [
    "class Num(int):    # create a Num class inherited from the built-in int class\n",
    "    \n",
    "    def __add__(self,n):\n",
    "        return Num(int(self) + int(n))\n",
    "    \n",
    "    def __sub__(self,n):  # overwrite the built-in method\n",
    "        return Num(int(self) * int(n))"
   ]
  },
  {
   "cell_type": "code",
   "execution_count": 36,
   "metadata": {},
   "outputs": [
    {
     "name": "stdout",
     "output_type": "stream",
     "text": [
      "15285807527593\n"
     ]
    }
   ],
   "source": [
    "result = 0\n",
    "for line in lines:\n",
    "    line = line.replace('*','-')\n",
    "    line = re.sub(r'(\\d+)',r'Num(\\1)',line)\n",
    "    result += eval(line)\n",
    "    \n",
    "print(result)"
   ]
  },
  {
   "cell_type": "code",
   "execution_count": null,
   "metadata": {},
   "outputs": [],
   "source": [
    "# Part One\n",
    "# What do you get if you add up the results of evaluating the homework problems using these new rules?"
   ]
  },
  {
   "cell_type": "code",
   "execution_count": 46,
   "metadata": {},
   "outputs": [],
   "source": [
    "lines = []\n",
    "for d in data_lines[1:]:\n",
    "    lines.append(d[0])"
   ]
  },
  {
   "cell_type": "code",
   "execution_count": 47,
   "metadata": {},
   "outputs": [],
   "source": [
    "class Num(int):    # create a Num class inherited from the built-in int class\n",
    "    \n",
    "    def __mul__(self,n):\n",
    "        return Num(int(self) + int(n))\n",
    "    \n",
    "    def __sub__(self,n):  # overwrite the built-in method\n",
    "        return Num(int(self) * int(n))"
   ]
  },
  {
   "cell_type": "code",
   "execution_count": 48,
   "metadata": {},
   "outputs": [
    {
     "name": "stdout",
     "output_type": "stream",
     "text": [
      "461295257566346\n"
     ]
    }
   ],
   "source": [
    "result = 0\n",
    "for line in lines:\n",
    "    line = line.replace('*','-')\n",
    "    line = line.replace('+','*')\n",
    "    line = re.sub(r'(\\d+)',r'Num(\\1)',line)\n",
    "    result += eval(line)\n",
    "    \n",
    "print(result)"
   ]
  },
  {
   "cell_type": "code",
   "execution_count": 49,
   "metadata": {},
   "outputs": [],
   "source": [
    "data.close()"
   ]
  },
  {
   "cell_type": "code",
   "execution_count": null,
   "metadata": {},
   "outputs": [],
   "source": []
  }
 ],
 "metadata": {
  "kernelspec": {
   "display_name": "Python 3",
   "language": "python",
   "name": "python3"
  },
  "language_info": {
   "codemirror_mode": {
    "name": "ipython",
    "version": 3
   },
   "file_extension": ".py",
   "mimetype": "text/x-python",
   "name": "python",
   "nbconvert_exporter": "python",
   "pygments_lexer": "ipython3",
   "version": "3.8.3"
  }
 },
 "nbformat": 4,
 "nbformat_minor": 4
}
