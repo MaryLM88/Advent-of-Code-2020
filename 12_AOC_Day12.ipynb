{
 "cells": [
  {
   "cell_type": "markdown",
   "metadata": {},
   "source": [
    "https://adventofcode.com/2020/day/12"
   ]
  },
  {
   "cell_type": "code",
   "execution_count": null,
   "metadata": {},
   "outputs": [],
   "source": [
    "# import the input (navigation instructions)"
   ]
  },
  {
   "cell_type": "code",
   "execution_count": 1,
   "metadata": {},
   "outputs": [],
   "source": [
    "import csv"
   ]
  },
  {
   "cell_type": "code",
   "execution_count": 2,
   "metadata": {},
   "outputs": [],
   "source": [
    "data = open('AOC12_input.csv',encoding=\"utf-8\")"
   ]
  },
  {
   "cell_type": "code",
   "execution_count": 3,
   "metadata": {},
   "outputs": [],
   "source": [
    "csv_data = csv.reader(data)"
   ]
  },
  {
   "cell_type": "code",
   "execution_count": 4,
   "metadata": {},
   "outputs": [],
   "source": [
    "data_lines = list(csv_data)"
   ]
  },
  {
   "cell_type": "code",
   "execution_count": 5,
   "metadata": {},
   "outputs": [],
   "source": [
    "mylist = []\n",
    "for elem in data_lines[1:]:\n",
    "    mylist.append(elem[0])"
   ]
  },
  {
   "cell_type": "code",
   "execution_count": null,
   "metadata": {},
   "outputs": [],
   "source": [
    "# Part One\n",
    "# Figure out where the navigation instructions lead. What is the Manhattan distance between that location \n",
    "# and the ship's starting position?"
   ]
  },
  {
   "cell_type": "code",
   "execution_count": 14,
   "metadata": {},
   "outputs": [],
   "source": [
    "coord_x = 0\n",
    "coord_y = 0\n",
    "# card = ['E','S','O','N']\n",
    "index = 0  # 0 -> E ; 1 -> S ; 2 -> W ; 3 -> N\n",
    "\n",
    "for elem in mylist:\n",
    "    let = elem[0]\n",
    "    num = int(elem[1:])\n",
    "    \n",
    "    if let == 'F':\n",
    "        if index == 0:\n",
    "            coord_x += num\n",
    "        elif index == 1:\n",
    "            coord_y -= num\n",
    "        elif index == 2:\n",
    "            coord_x -= num\n",
    "        elif index == 3:\n",
    "            coord_y += num\n",
    "            \n",
    "    if let == 'L':\n",
    "        index -= num/90\n",
    "        if index < 0:\n",
    "            index += 4\n",
    "    if let == 'R':\n",
    "        index += num/90\n",
    "        if index >= 4:\n",
    "            index -= 4\n",
    "            \n",
    "    if let == 'E':\n",
    "        coord_x += num\n",
    "    if let == 'S':\n",
    "        coord_y -= num\n",
    "    if let == 'W':\n",
    "        coord_x -= num\n",
    "    if let == 'N':\n",
    "        coord_y += num\n"
   ]
  },
  {
   "cell_type": "code",
   "execution_count": 15,
   "metadata": {},
   "outputs": [
    {
     "data": {
      "text/plain": [
       "2458"
      ]
     },
     "execution_count": 15,
     "metadata": {},
     "output_type": "execute_result"
    }
   ],
   "source": [
    "abs(coord_x) + abs(coord_y)"
   ]
  },
  {
   "cell_type": "code",
   "execution_count": null,
   "metadata": {},
   "outputs": [],
   "source": [
    "# Part Two\n",
    "# Now the actions in the instructions indicate how to move a waypoint which is relative to the ship's position.\n",
    "# Figure out where the navigation instructions actually lead. What is the Manhattan distance between that location \n",
    "# and the ship's starting position?"
   ]
  },
  {
   "cell_type": "code",
   "execution_count": 19,
   "metadata": {},
   "outputs": [],
   "source": [
    "s_coord_x = 0\n",
    "s_coord_y = 0\n",
    "wp_coord_x = 10\n",
    "wp_coord_y = 1\n",
    "\n",
    "for elem in mylist:\n",
    "    let = elem[0]\n",
    "    num = int(elem[1:])\n",
    "    diff_x = wp_coord_x-s_coord_x\n",
    "    diff_y = wp_coord_y-s_coord_y\n",
    "    \n",
    "    if let == 'F':\n",
    "        s_coord_x += num*(diff_x)\n",
    "        wp_coord_x += num*(diff_x)\n",
    "        s_coord_y -= num*(diff_y)\n",
    "        wp_coord_y -= num*(diff_y)\n",
    "        \n",
    "    if let == 'E':\n",
    "        wp_coord_x += num\n",
    "    if let == 'S':\n",
    "        wp_coord_y -= num\n",
    "    if let == 'W':\n",
    "        wp_coord_x -= num\n",
    "    if let == 'N':\n",
    "        wp_coord_y += num\n",
    "    \n",
    "\n",
    "    if let == 'L':\n",
    "        if num/90 == 1: # 90#\n",
    "            temp = diff_y\n",
    "            diff_y = diff_x\n",
    "            diff_x = -temp\n",
    "            wp_coord_x = diff_x + s_coord_x\n",
    "            wp_coord_y = diff_y + s_coord_y   \n",
    "        if num/90 == 2: # 180°\n",
    "            diff_x = -diff_x\n",
    "            diff_y = -diff_y\n",
    "            wp_coord_x = diff_x + s_coord_x\n",
    "            wp_coord_y = diff_y + s_coord_y            \n",
    "        if num/90 == 3: # 270°\n",
    "            temp = diff_y\n",
    "            diff_y = -diff_x\n",
    "            diff_x = temp\n",
    "            wp_coord_x = diff_x + s_coord_x\n",
    "            wp_coord_y = diff_y + s_coord_y\n",
    "        \n",
    "    if let == 'R':\n",
    "        if num/90 == 1: # 90#\n",
    "            temp = diff_y\n",
    "            diff_y = -diff_x\n",
    "            diff_x = temp\n",
    "            wp_coord_x = diff_x + s_coord_x\n",
    "            wp_coord_y = diff_y + s_coord_y\n",
    "        if num/90 == 2: # 180°\n",
    "            diff_x = -diff_x\n",
    "            diff_y = -diff_y\n",
    "            wp_coord_x = diff_x + s_coord_x\n",
    "            wp_coord_y = diff_y + s_coord_y\n",
    "        if num/90 == 3: # 270°\n",
    "            temp = diff_y\n",
    "            diff_y = diff_x\n",
    "            diff_x = -temp\n",
    "            wp_coord_x = diff_x + s_coord_x\n",
    "            wp_coord_y = diff_y + s_coord_y"
   ]
  },
  {
   "cell_type": "code",
   "execution_count": 20,
   "metadata": {},
   "outputs": [
    {
     "data": {
      "text/plain": [
       "145117"
      ]
     },
     "execution_count": 20,
     "metadata": {},
     "output_type": "execute_result"
    }
   ],
   "source": [
    "abs(s_coord_x) + abs(s_coord_y)"
   ]
  },
  {
   "cell_type": "code",
   "execution_count": 16,
   "metadata": {},
   "outputs": [],
   "source": []
  },
  {
   "cell_type": "code",
   "execution_count": 17,
   "metadata": {},
   "outputs": [],
   "source": []
  },
  {
   "cell_type": "code",
   "execution_count": null,
   "metadata": {},
   "outputs": [],
   "source": []
  },
  {
   "cell_type": "code",
   "execution_count": null,
   "metadata": {},
   "outputs": [],
   "source": []
  },
  {
   "cell_type": "code",
   "execution_count": null,
   "metadata": {},
   "outputs": [],
   "source": []
  }
 ],
 "metadata": {
  "kernelspec": {
   "display_name": "Python 3",
   "language": "python",
   "name": "python3"
  },
  "language_info": {
   "codemirror_mode": {
    "name": "ipython",
    "version": 3
   },
   "file_extension": ".py",
   "mimetype": "text/x-python",
   "name": "python",
   "nbconvert_exporter": "python",
   "pygments_lexer": "ipython3",
   "version": "3.8.3"
  }
 },
 "nbformat": 4,
 "nbformat_minor": 4
}
