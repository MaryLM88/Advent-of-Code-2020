{
 "cells": [
  {
   "cell_type": "markdown",
   "metadata": {},
   "source": [
    "https://adventofcode.com/2020/day/5"
   ]
  },
  {
   "cell_type": "code",
   "execution_count": 1,
   "metadata": {},
   "outputs": [],
   "source": [
    "# import the input (boarding pass code) and put the data in a list"
   ]
  },
  {
   "cell_type": "code",
   "execution_count": 2,
   "metadata": {},
   "outputs": [],
   "source": [
    "import csv"
   ]
  },
  {
   "cell_type": "code",
   "execution_count": 3,
   "metadata": {},
   "outputs": [],
   "source": [
    "data = open('AOC5_input.csv',encoding=\"utf-8\")"
   ]
  },
  {
   "cell_type": "code",
   "execution_count": 4,
   "metadata": {},
   "outputs": [],
   "source": [
    "csv_data = csv.reader(data)"
   ]
  },
  {
   "cell_type": "code",
   "execution_count": 5,
   "metadata": {},
   "outputs": [],
   "source": [
    "data_lines = list(csv_data)"
   ]
  },
  {
   "cell_type": "code",
   "execution_count": 6,
   "metadata": {},
   "outputs": [],
   "source": [
    "mylist = []\n",
    "for elem in data_lines[1:]:\n",
    "    mylist.append(elem[0])"
   ]
  },
  {
   "cell_type": "code",
   "execution_count": 7,
   "metadata": {},
   "outputs": [],
   "source": [
    "# Part One\n",
    "# Every seat has a unique seat ID: multiply the row by 8, then add the column.\n",
    "# What is the highest seat ID on a boarding pass?"
   ]
  },
  {
   "cell_type": "code",
   "execution_count": 24,
   "metadata": {},
   "outputs": [],
   "source": [
    "def gen_rows(n):\n",
    "    for x in range(n):\n",
    "        yield x\n",
    "        \n",
    "def gen_columns(n):\n",
    "    for x in range(n):\n",
    "        yield x\n",
    "    "
   ]
  },
  {
   "cell_type": "code",
   "execution_count": 60,
   "metadata": {},
   "outputs": [],
   "source": [
    "def highest_ID(mylist):\n",
    "    ID = []\n",
    "    for seat in mylist:\n",
    "        row_code = seat[:7]\n",
    "        column_code = seat[7:]\n",
    "        row = list(gen_rows(128))\n",
    "        column = list(gen_columns(8))\n",
    "        for let in row_code:\n",
    "            if let == 'F':\n",
    "                row = row[:int(len(row)/2)]\n",
    "            else:\n",
    "                row = row[int(len(row)/2):]\n",
    "        for let in column_code:\n",
    "            if let == 'L':\n",
    "                column = column[:int(len(column)/2)]\n",
    "            else:\n",
    "                column = column[int(len(column)/2):]\n",
    "        ID.append(row[0]*8+column[0])\n",
    "\n",
    "    return max(ID)\n",
    "\n"
   ]
  },
  {
   "cell_type": "code",
   "execution_count": 66,
   "metadata": {},
   "outputs": [],
   "source": [
    "# Part Two\n",
    "# Your ID is the only ID missing.\n",
    "# However, there's a catch: some of the seats at the very front and back of the plane don't exist on this aircraft, \n",
    "# so they'll be missing from your list as well. Your seat wasn't at the very front or back, though; the seats with IDs +1 \n",
    "# and -1 from yours will be in your list. What is the ID of your seat?"
   ]
  },
  {
   "cell_type": "code",
   "execution_count": 67,
   "metadata": {},
   "outputs": [],
   "source": [
    "row = list(gen_rows(128))\n",
    "column = list(gen_columns(8))\n",
    "all_ID = []\n",
    "for r in row:\n",
    "    for c in column:\n",
    "        all_ID.append(r*8+c)"
   ]
  },
  {
   "cell_type": "code",
   "execution_count": 69,
   "metadata": {},
   "outputs": [],
   "source": [
    "ID = []\n",
    "for seat in mylist:\n",
    "    row_code = seat[:7]\n",
    "    column_code = seat[7:]\n",
    "    row = list(gen_rows(128))\n",
    "    column = list(gen_columns(8))\n",
    "    for let in row_code:\n",
    "        if let == 'F':\n",
    "            row = row[:int(len(row)/2)]\n",
    "        else:\n",
    "            row = row[int(len(row)/2):]\n",
    "    for let in column_code:\n",
    "        if let == 'L':\n",
    "            column = column[:int(len(column)/2)]\n",
    "        else:\n",
    "            column = column[int(len(column)/2):]\n",
    "    ID.append(row[0]*8+column[0])"
   ]
  },
  {
   "cell_type": "code",
   "execution_count": 74,
   "metadata": {},
   "outputs": [],
   "source": [
    "possible_IDs = list(set(all_ID)-set(ID))"
   ]
  },
  {
   "cell_type": "code",
   "execution_count": 75,
   "metadata": {},
   "outputs": [],
   "source": [
    "for id_ in possible_IDs:\n",
    "    if id_-1 in ID and id_+1 in ID:\n",
    "        myID = id_"
   ]
  },
  {
   "cell_type": "code",
   "execution_count": 76,
   "metadata": {},
   "outputs": [
    {
     "data": {
      "text/plain": [
       "617"
      ]
     },
     "execution_count": 76,
     "metadata": {},
     "output_type": "execute_result"
    }
   ],
   "source": [
    "myID"
   ]
  },
  {
   "cell_type": "code",
   "execution_count": null,
   "metadata": {},
   "outputs": [],
   "source": [
    "data.close()"
   ]
  },
  {
   "cell_type": "code",
   "execution_count": null,
   "metadata": {},
   "outputs": [],
   "source": []
  },
  {
   "cell_type": "code",
   "execution_count": null,
   "metadata": {},
   "outputs": [],
   "source": []
  },
  {
   "cell_type": "code",
   "execution_count": null,
   "metadata": {},
   "outputs": [],
   "source": []
  }
 ],
 "metadata": {
  "kernelspec": {
   "display_name": "Python 3",
   "language": "python",
   "name": "python3"
  },
  "language_info": {
   "codemirror_mode": {
    "name": "ipython",
    "version": 3
   },
   "file_extension": ".py",
   "mimetype": "text/x-python",
   "name": "python",
   "nbconvert_exporter": "python",
   "pygments_lexer": "ipython3",
   "version": "3.8.3"
  }
 },
 "nbformat": 4,
 "nbformat_minor": 4
}
